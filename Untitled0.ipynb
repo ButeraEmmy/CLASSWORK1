{
  "nbformat": 4,
  "nbformat_minor": 0,
  "metadata": {
    "colab": {
      "provenance": []
    },
    "kernelspec": {
      "name": "python3",
      "display_name": "Python 3"
    },
    "language_info": {
      "name": "python"
    }
  },
  "cells": [
    {
      "cell_type": "code",
      "source": [
        "\n",
        "file1 = \"History is the systematic study of the past\"\n",
        "file2 = \"History is the systematic study of the past this is just for practice\"\n",
        "\n",
        "# Function to calculate Jaccard similarity\n",
        "def jaccard_similarity(text1, text2):\n",
        "    # Convert texts to sets of words\n",
        "    set1, set2 = set(text1.split()), set(text2.split())\n",
        "\n",
        "    # Find intersection and union\n",
        "    intersection = set1.intersection(set2)\n",
        "    union = set1.union(set2)\n",
        "\n",
        "    # Compute Jaccard similarity\n",
        "    similarity = len(intersection) / len(union)\n",
        "\n",
        "    # Return similarity score and common words\n",
        "    return similarity, intersection\n",
        "\n",
        "\n",
        "# Compute similarity and common words\n",
        "similarity, common_words = jaccard_similarity(file1, file2)\n",
        "\n",
        "# Print results\n",
        "print(f\"Similarity: {similarity:.2f}\")\n",
        "print(f\"Common words: {common_words}\")\n"
      ],
      "metadata": {
        "colab": {
          "base_uri": "https://localhost:8080/"
        },
        "id": "CExwzFH1Gx3x",
        "outputId": "5c227168-4224-408f-d99e-4ca4f4ce15dd"
      },
      "execution_count": 8,
      "outputs": [
        {
          "output_type": "stream",
          "name": "stdout",
          "text": [
            "Similarity: 0.64\n",
            "Common words: {'systematic', 'the', 'study', 'is', 'History', 'past', 'of'}\n"
          ]
        }
      ]
    },
    {
      "cell_type": "code",
      "source": [],
      "metadata": {
        "id": "NlX3V8BjI7CI"
      },
      "execution_count": null,
      "outputs": []
    }
  ]
}